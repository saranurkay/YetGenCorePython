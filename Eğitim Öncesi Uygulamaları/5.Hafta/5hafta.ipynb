#1.SORU

alan = lambda a,b : (a*b)/2  
alan(3,2)

cevre = lambda x,y : (2*x)+(2*y)
cevre(4,5)

#2.SORU

a = int(input())
b = int(input())
print(a,"ile",b,"arasındaki asal sayılar:")
for sayi in range(a,b+1):
    if sayi > 1:
       for i in range(2,sayi):
           if (sayi % i) == 0:
               break
       else:
           print(sayi)

#3.SORU

workHours = int(input("Çalışma Saatini Giriniz"))
if workHours < 40:
    ucret = workHours * 10
else:
    ucret = workHours*15
print(ucret)   

#4.SORU

kisiSayısı = int(input("Katılımcı Sayısınız Giriniz"))
if kisiSayısı%4 == 0:
    print(f"{kisiSayısı//4} araç gerekli")
else:
    print(f"{kisiSayısı//4 + 1} araç gerekli")

#5.SORU

def sayiTopla(*x):
    toplam = 0
    for i in x :
        toplam = toplam + i 
    print(toplam)
sayiTopla(1,2,3,4,5)

#6.SORU

lst = [("xxx",1),("xxx",2),("xxx",9),("xxx",3),("xxx",1),("xxx",13),("xxx",26),("xxx",4)]
lst_sorted = sorted(lst, key=lambda x: x[1])
print(lst_sorted)

#7.SORU

cıft_sayılar = [num for num in range(1, 101) if num % 2 == 0]
print(cıft_sayılar)
